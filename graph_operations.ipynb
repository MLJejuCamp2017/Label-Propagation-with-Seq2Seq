{
 "cells": [
  {
   "cell_type": "markdown",
   "metadata": {
    "deletable": true,
    "editable": true
   },
   "source": [
    "## Create graph"
   ]
  },
  {
   "cell_type": "code",
   "execution_count": 1,
   "metadata": {
    "collapsed": true,
    "deletable": true,
    "editable": true
   },
   "outputs": [],
   "source": [
    "from tqdm import tqdm"
   ]
  },
  {
   "cell_type": "code",
   "execution_count": 2,
   "metadata": {
    "collapsed": false,
    "deletable": true,
    "editable": true
   },
   "outputs": [],
   "source": [
    "import numpy as np\n",
    "from sklearn.preprocessing import normalize\n",
    "from time import time\n",
    "import pickle\n",
    "\n",
    "# similarity analysis using GPUs\n",
    "import faiss"
   ]
  },
  {
   "cell_type": "code",
   "execution_count": 3,
   "metadata": {
    "collapsed": false
   },
   "outputs": [],
   "source": [
    "# load all data (vectors)\n",
    "L = pickle.load(open('./data/graph/labeled.pickle', 'rb'))\n",
    "U = pickle.load(open('./data/graph/unlabeled.pickle', 'rb'))\n",
    "M = np.vstack([L,U]) # combining labeled data with unlabeled data"
   ]
  },
  {
   "cell_type": "code",
   "execution_count": 4,
   "metadata": {
    "collapsed": false,
    "deletable": true,
    "editable": true
   },
   "outputs": [],
   "source": [
    "M = normalize(M) # L2 Norm before calculating cosine similarity\n",
    "\n",
    "last_index_l = L.shape[0]\n",
    "last_index_u = last_index_l + U.shape[0]\n",
    "\n",
    "# we only keep the closest neighbors\n",
    "max_neighs = 5\n",
    "size = M.shape[0]"
   ]
  },
  {
   "cell_type": "code",
   "execution_count": 5,
   "metadata": {
    "collapsed": false,
    "deletable": true,
    "editable": true
   },
   "outputs": [],
   "source": [
    "\"\"\" FAISS operations \"\"\"\n",
    "res = faiss.StandardGpuResources()\n",
    "index = faiss.GpuIndexFlatIP(res, M.shape[1]) # build the index\n",
    "\n",
    "index.add(M) # add vectors to the index"
   ]
  },
  {
   "cell_type": "code",
   "execution_count": 6,
   "metadata": {
    "collapsed": false,
    "deletable": true,
    "editable": true
   },
   "outputs": [
    {
     "name": "stderr",
     "output_type": "stream",
     "text": [
      "100%|██████████| 973/973 [02:22<00:00,  7.35it/s]"
     ]
    },
    {
     "name": "stdout",
     "output_type": "stream",
     "text": [
      "\n"
     ]
    },
    {
     "name": "stderr",
     "output_type": "stream",
     "text": [
      "\n"
     ]
    }
   ],
   "source": [
    "batch_size = 1000\n",
    "batch_num = int(np.ceil(size / batch_size))\n",
    "\n",
    "sims, inds = [], []\n",
    "\n",
    "for i in tqdm(range(batch_num)):\n",
    "    # actual search\n",
    "    similarities, indices = index.search(M[i*batch_size:int(np.min([(i+1)*batch_size, size]))],max_neighs+1)\n",
    "    \n",
    "    # remove self-references\n",
    "    batch_ids = np.vstack(np.arange(i*batch_size, int(np.min([(i+1)*batch_size, size]))))\n",
    "    xs, ys = np.where(indices=\n",
    "                      =batch_ids)\n",
    "    similarities[xs,ys] = 0\n",
    "    \n",
    "    sims.extend(similarities)\n",
    "    inds.extend(indices)\n",
    "print()"
   ]
  },
  {
   "cell_type": "code",
   "execution_count": 7,
   "metadata": {
    "collapsed": true,
    "deletable": true,
    "editable": true
   },
   "outputs": [],
   "source": [
    "graph = dict()\n",
    "edges_weights = dict()\n",
    "edges_ll = list()\n",
    "edges_lu = list()\n",
    "edges_uu = list()"
   ]
  },
  {
   "cell_type": "code",
   "execution_count": 8,
   "metadata": {
    "collapsed": false,
    "deletable": true,
    "editable": true
   },
   "outputs": [
    {
     "name": "stderr",
     "output_type": "stream",
     "text": [
      "100%|██████████| 972752/972752 [00:20<00:00, 46836.91it/s] \n"
     ]
    }
   ],
   "source": [
    "for i in tqdm(range(size)):\n",
    "    neighbors_indices = list(inds[i][sims[i].argsort()[-max_neighs::][::-1]])\n",
    "    correct_indices = [j for j in neighbors_indices if i < j]\n",
    "    graph.update({i:correct_indices})\n",
    "\n",
    "    n = len(correct_indices)\n",
    "\n",
    "    if n > 0:\n",
    "        edges = list(zip([i] * n, correct_indices))\n",
    "        take_indices = [np.where(inds[i]==x)[0][0] for x in correct_indices]\n",
    "        edges_weights.update(dict(zip(edges,np.take(sims[i],take_indices))))\n",
    "\n",
    "        for j in correct_indices:\n",
    "            if (0 <= i < last_index_l) and (0 <= j < last_index_l):\n",
    "                edges_ll.append((i,j))\n",
    "            elif (0 <= i < last_index_l) and (last_index_l <= j < last_index_u):\n",
    "                edges_lu.append((i,j))\n",
    "            else:\n",
    "                edges_uu.append((i,j))"
   ]
  },
  {
   "cell_type": "code",
   "execution_count": 9,
   "metadata": {
    "collapsed": false,
    "deletable": true,
    "editable": true
   },
   "outputs": [
    {
     "name": "stdout",
     "output_type": "stream",
     "text": [
      "609090 1216274 606779 2432143\n"
     ]
    }
   ],
   "source": [
    "print(len(edges_ll), len(edges_lu), len(edges_uu), len(edges_weights))"
   ]
  },
  {
   "cell_type": "code",
   "execution_count": 10,
   "metadata": {
    "collapsed": true,
    "deletable": true,
    "editable": true
   },
   "outputs": [],
   "source": [
    "# save to file the data structure that we worked so hard to compute\n",
    "pickle.dump(dict(graph), open(\"./data/graph/graph.p\", \"wb\"))\n",
    "pickle.dump(dict(edges_weights), open(\"./data/graph/edges_weights.p\", \"wb\"))\n",
    "pickle.dump(list(edges_ll), open(\"./data/graph/edges_ll.p\", \"wb\"))\n",
    "pickle.dump(list(edges_lu), open(\"./data/graph/edges_lu.p\", \"wb\"))\n",
    "pickle.dump(list(edges_uu), open(\"./data/graph/edges_uu.p\", \"wb\"))"
   ]
  },
  {
   "cell_type": "markdown",
   "metadata": {
    "deletable": true,
    "editable": true
   },
   "source": [
    "## Graphs"
   ]
  },
  {
   "cell_type": "code",
   "execution_count": 16,
   "metadata": {
    "collapsed": true,
    "deletable": true,
    "editable": true
   },
   "outputs": [],
   "source": [
    "import pickle\n",
    "import networkx as nx\n",
    "import random"
   ]
  },
  {
   "cell_type": "code",
   "execution_count": 17,
   "metadata": {
    "collapsed": true,
    "deletable": true,
    "editable": true
   },
   "outputs": [],
   "source": [
    "class EmbeddingsGraph:\n",
    "\n",
    "    def __init__(self):\n",
    "        self.graph = nx.Graph()\n",
    "        #self.graph = pickle.load(open(\"./data/graph/graph.p\", \"rb\"))\n",
    "        edges_ll = pickle.load(open(\"./data/graph/edges_ll.p\", \"rb\"))\n",
    "        edges_lu = pickle.load(open(\"./data/graph/edges_lu.p\", \"rb\"))\n",
    "        edges_uu = pickle.load(open(\"./data/graph/edges_uu.p\", \"rb\"))\n",
    "        self.edges = edges_ll + edges_lu + edges_uu\n",
    "        self.edges_weights = pickle.load(open(\"./data/graph/edges_weights.p\", \"rb\"))\n",
    "\n",
    "        for (u,v) in self.edges:\n",
    "            self.graph.add_edge(u, v, weight=self.edges_weights.get((u, v)))\n",
    "\n",
    "    def weight(self,u,v):\n",
    "        if u < v:\n",
    "            return self.edges_weights.get((u,v))\n",
    "        else:\n",
    "            return self.edges_weights.get((v,u))"
   ]
  },
  {
   "cell_type": "markdown",
   "metadata": {
    "deletable": true,
    "editable": true
   },
   "source": [
    "## Remove Nodes with Edges"
   ]
  },
  {
   "cell_type": "code",
   "execution_count": 11,
   "metadata": {
    "collapsed": false,
    "deletable": true,
    "editable": true
   },
   "outputs": [],
   "source": [
    "import numpy as np\n",
    "import networkx as nx\n",
    "from embeddings_graph import EmbeddingsGraph\n",
    "from data import KOEN\n",
    "import unicodedata"
   ]
  },
  {
   "cell_type": "code",
   "execution_count": 12,
   "metadata": {
    "collapsed": false,
    "deletable": true,
    "editable": true
   },
   "outputs": [
    {
     "name": "stdout",
     "output_type": "stream",
     "text": [
      "INFO:tensorflow:Train data loaded.(total data=486344, total batch=15198)\n",
      "INFO:tensorflow:Train data loaded.(total data=486345, total batch=15198)\n"
     ]
    }
   ],
   "source": [
    "graph = EmbeddingsGraph().graph\n",
    "batch_size = 32\n",
    "\n",
    "data = KOEN(batch_size, 'train')\n",
    "data2 = KOEN(batch_size, 'train.mono')\n",
    "\n",
    "with open('./data/raw/ko.train', 'r') as f:\n",
    "    ss_L = f.readlines()\n",
    "    \n",
    "with open('./data/raw/ko.train.mono', 'r') as f:\n",
    "    ss_U = f.readlines()\n",
    "    \n",
    "l = len(ss_L) #last index of labeled samples\n",
    "u = l + len(ss_U) #last index of all samples"
   ]
  },
  {
   "cell_type": "code",
   "execution_count": 13,
   "metadata": {
    "collapsed": false,
    "deletable": true,
    "editable": true
   },
   "outputs": [],
   "source": [
    "data.source.extend(data2.source)\n",
    "\n",
    "data.source = np.array(data.source)\n",
    "data.target = np.array(data.target)"
   ]
  },
  {
   "cell_type": "code",
   "execution_count": 15,
   "metadata": {
    "collapsed": false,
    "deletable": true,
    "editable": true
   },
   "outputs": [],
   "source": [
    "def label(i):\n",
    "    if 0 <= i < l:\n",
    "        return data.target[i]\n",
    "\n",
    "\n",
    "def next_batch(h_edges, start, finish):\n",
    "    \"\"\"\n",
    "    Helper function for the iterator, note that the neural graph machines,\n",
    "    due to its unique loss function, requires carefully crafted inputs\n",
    "\n",
    "    Refer to the Neural Graph Machines paper, section 3 and 3.3 for more details\n",
    "    \"\"\"\n",
    "    edges_ll = list()\n",
    "    edges_lu = list()\n",
    "    edges_uu = list()\n",
    "    weights_ll = list()\n",
    "    weights_lu = list()\n",
    "    weights_uu = list()\n",
    "    batch_edges = h_edges[start:finish]\n",
    "    batch_edges = np.asarray(batch_edges)\n",
    "\n",
    "    for i, j in batch_edges[:]:\n",
    "        if (0 <= i < l) and (0 <= j < l):\n",
    "            edges_ll.append((i, j))\n",
    "            weights_ll.append(graph.get_edge_data(i,j)['weight'])\n",
    "        elif (0 <= i < l) and (l <= j < u):\n",
    "            edges_lu.append((i, j))\n",
    "            weights_lu.append(graph.get_edge_data(i,j)['weight'])\n",
    "        else:\n",
    "            edges_uu.append((i, j))\n",
    "            weights_uu.append(graph.get_edge_data(i,j)['weight'])\n",
    "\n",
    "    u_ll = [e[0] for e in edges_ll]\n",
    "\n",
    "    # number of incident edges for nodes u\n",
    "    c_ull = [1 / len(graph.edges(n)) for n in u_ll]\n",
    "    v_ll = [e[1] for e in edges_ll]\n",
    "    c_vll = [1 / len(graph.edges(n)) for n in v_ll]\n",
    "    nodes_ll_u = data.source[u_ll]\n",
    "\n",
    "    labels_ll_u = np.vstack([label(n) for n in u_ll])\n",
    "\n",
    "    nodes_ll_v = data.source[v_ll]\n",
    "\n",
    "    labels_ll_v = np.vstack([label(n) for n in v_ll])\n",
    "\n",
    "    u_lu = [e[0] for e in edges_lu]\n",
    "    c_ulu = [1 / len(graph.edges(n)) for n in u_lu]\n",
    "    nodes_lu_u = data.source[u_lu]\n",
    "    nodes_lu_v = data.source[[e[1] for e in edges_lu]]\n",
    "\n",
    "    labels_lu = np.vstack([label(n) for n in u_lu])\n",
    "\n",
    "    nodes_uu_u = data.source[[e[0] for e in edges_uu]]\n",
    "    nodes_uu_v = data.source[[e[1] for e in edges_uu]]\n",
    "\n",
    "    return nodes_ll_u, nodes_ll_v, labels_ll_u, labels_ll_v, \\\n",
    "           nodes_uu_u, nodes_uu_v, nodes_lu_u, nodes_lu_v, \\\n",
    "           labels_lu, weights_ll, weights_lu, weights_uu, \\\n",
    "           c_ull, c_vll, c_ulu\n",
    "\n",
    "\n",
    "def batch_iter(batch_size):\n",
    "    \"\"\"\n",
    "        Generates a batch iterator for the dataset.\n",
    "    \"\"\"\n",
    "\n",
    "    data_size = len(graph.edges())\n",
    "\n",
    "    edges = np.random.permutation(graph.edges())\n",
    "\n",
    "    num_batches = int(data_size / batch_size)\n",
    "\n",
    "    if data_size % batch_size > 0:\n",
    "        num_batches = int(data_size / batch_size) + 1\n",
    "\n",
    "    for batch_num in range(num_batches):\n",
    "        start_index = batch_num * batch_size\n",
    "        end_index = min((batch_num + 1) * batch_size, data_size)\n",
    "        yield next_batch(edges,start_index,end_index)"
   ]
  },
  {
   "cell_type": "code",
   "execution_count": 16,
   "metadata": {
    "collapsed": true
   },
   "outputs": [],
   "source": [
    "data_size = len(graph.edges())\n",
    "edges = np.random.permutation(graph.edges())"
   ]
  },
  {
   "cell_type": "code",
   "execution_count": 17,
   "metadata": {
    "collapsed": true
   },
   "outputs": [],
   "source": [
    "start_index=0\n",
    "end_index=32"
   ]
  },
  {
   "cell_type": "code",
   "execution_count": 19,
   "metadata": {
    "collapsed": false
   },
   "outputs": [
    {
     "data": {
      "text/plain": [
       "(array([[127, 143, 185, 133, 163, 168, 135, 161, 168,   2, 135, 143, 136,\n",
       "         163, 165, 127, 151,   2, 133, 147, 131, 156, 135, 148,   2, 135,\n",
       "         163, 184, 126, 161, 168,   2, 136, 163, 165, 136, 143, 185, 135,\n",
       "         161, 172,   2, 138, 143, 186, 124, 151,   2, 124, 150, 133, 163,\n",
       "         181, 126, 163, 125, 143,  33,   1,   0,   0,   0,   0,   0,   0,\n",
       "           0,   0,   0,   0,   0,   0,   0,   0,   0,   0,   0,   0,   0,\n",
       "           0,   0,   0,   0,   0,   0,   0,   0,   0,   0,   0,   0,   0,\n",
       "           0,   0,   0,   0,   0,   0,   0,   0,   0,   0,   0,   0,   0,\n",
       "           0,   0,   0,   0,   0,   0,   0,   0,   0,   0,   0,   0,   0,\n",
       "           0,   0,   0,   0,   0,   0,   0,   0,   0,   0,   0,   0,   0,\n",
       "           0,   0,   0,   0,   0,   0,   0,   0,   0,   0,   0,   0,   0,\n",
       "           0,   0,   0,   0,   0,   0,   0],\n",
       "        [126, 147, 168,   2, 135, 149, 165, 142, 143, 172, 135, 161, 172,\n",
       "           2, 136, 148, 127, 144, 129, 151,   2, 130, 151, 183, 142, 144,\n",
       "           2, 135, 163, 172, 135, 161, 172,   2, 130, 143, 185, 138, 149,\n",
       "         126, 151, 191, 135, 143, 184, 127, 143,  16,   1,   0,   0,   0,\n",
       "           0,   0,   0,   0,   0,   0,   0,   0,   0,   0,   0,   0,   0,\n",
       "           0,   0,   0,   0,   0,   0,   0,   0,   0,   0,   0,   0,   0,\n",
       "           0,   0,   0,   0,   0,   0,   0,   0,   0,   0,   0,   0,   0,\n",
       "           0,   0,   0,   0,   0,   0,   0,   0,   0,   0,   0,   0,   0,\n",
       "           0,   0,   0,   0,   0,   0,   0,   0,   0,   0,   0,   0,   0,\n",
       "           0,   0,   0,   0,   0,   0,   0,   0,   0,   0,   0,   0,   0,\n",
       "           0,   0,   0,   0,   0,   0,   0,   0,   0,   0,   0,   0,   0,\n",
       "           0,   0,   0,   0,   0,   0,   0],\n",
       "        [135, 163,   2, 135, 161, 168, 142, 150, 126, 161, 168,   2, 127,\n",
       "         156, 124, 151, 127, 156, 124, 151,   2, 135, 163, 186, 136, 163,\n",
       "           2, 135, 143, 170, 124, 148, 184, 133, 161, 181, 126, 163, 127,\n",
       "         143,   1,   0,   0,   0,   0,   0,   0,   0,   0,   0,   0,   0,\n",
       "           0,   0,   0,   0,   0,   0,   0,   0,   0,   0,   0,   0,   0,\n",
       "           0,   0,   0,   0,   0,   0,   0,   0,   0,   0,   0,   0,   0,\n",
       "           0,   0,   0,   0,   0,   0,   0,   0,   0,   0,   0,   0,   0,\n",
       "           0,   0,   0,   0,   0,   0,   0,   0,   0,   0,   0,   0,   0,\n",
       "           0,   0,   0,   0,   0,   0,   0,   0,   0,   0,   0,   0,   0,\n",
       "           0,   0,   0,   0,   0,   0,   0,   0,   0,   0,   0,   0,   0,\n",
       "           0,   0,   0,   0,   0,   0,   0,   0,   0,   0,   0,   0,   0,\n",
       "           0,   0,   0,   0,   0,   0,   0]]),\n",
       " array([[126, 143, 126, 161, 168,   2, 126, 148, 126, 151, 180, 135, 163,\n",
       "           2, 133, 143, 142, 149, 185, 133, 156, 129, 151,   2, 135, 163,\n",
       "         184, 135, 161, 172,   2, 133, 156,   2, 135, 163, 184, 127, 151,\n",
       "         129, 151, 165,   2, 135, 144, 134, 161, 124, 151,   2, 135, 163,\n",
       "         184, 136, 163,  16,   1,   0,   0,   0,   0,   0,   0,   0,   0,\n",
       "           0,   0,   0,   0,   0,   0,   0,   0,   0,   0,   0,   0,   0,\n",
       "           0,   0,   0,   0,   0,   0,   0,   0,   0,   0,   0,   0,   0,\n",
       "           0,   0,   0,   0,   0,   0,   0,   0,   0,   0,   0,   0,   0,\n",
       "           0,   0,   0,   0,   0,   0,   0,   0,   0,   0,   0,   0,   0,\n",
       "           0,   0,   0,   0,   0,   0,   0,   0,   0,   0,   0,   0,   0,\n",
       "           0,   0,   0,   0,   0,   0,   0,   0,   0,   0,   0,   0,   0,\n",
       "           0,   0,   0,   0,   0,   0,   0],\n",
       "        [126, 143, 126, 161, 168,   2, 142, 143, 185, 133, 143, 185,   2,\n",
       "         124, 161, 129, 147, 191, 124, 148,   2, 130, 143, 172, 142, 143,\n",
       "         136, 163,   2, 135, 143, 170, 126, 161, 168, 127, 143,  16,   1,\n",
       "           0,   0,   0,   0,   0,   0,   0,   0,   0,   0,   0,   0,   0,\n",
       "           0,   0,   0,   0,   0,   0,   0,   0,   0,   0,   0,   0,   0,\n",
       "           0,   0,   0,   0,   0,   0,   0,   0,   0,   0,   0,   0,   0,\n",
       "           0,   0,   0,   0,   0,   0,   0,   0,   0,   0,   0,   0,   0,\n",
       "           0,   0,   0,   0,   0,   0,   0,   0,   0,   0,   0,   0,   0,\n",
       "           0,   0,   0,   0,   0,   0,   0,   0,   0,   0,   0,   0,   0,\n",
       "           0,   0,   0,   0,   0,   0,   0,   0,   0,   0,   0,   0,   0,\n",
       "           0,   0,   0,   0,   0,   0,   0,   0,   0,   0,   0,   0,   0,\n",
       "           0,   0,   0,   0,   0,   0,   0],\n",
       "        [124, 161, 126, 161, 168,   2, 124, 154, 185, 136, 143, 185, 142,\n",
       "         143, 168,   2, 131, 156, 136, 143, 127, 143,   1,   0,   0,   0,\n",
       "           0,   0,   0,   0,   0,   0,   0,   0,   0,   0,   0,   0,   0,\n",
       "           0,   0,   0,   0,   0,   0,   0,   0,   0,   0,   0,   0,   0,\n",
       "           0,   0,   0,   0,   0,   0,   0,   0,   0,   0,   0,   0,   0,\n",
       "           0,   0,   0,   0,   0,   0,   0,   0,   0,   0,   0,   0,   0,\n",
       "           0,   0,   0,   0,   0,   0,   0,   0,   0,   0,   0,   0,   0,\n",
       "           0,   0,   0,   0,   0,   0,   0,   0,   0,   0,   0,   0,   0,\n",
       "           0,   0,   0,   0,   0,   0,   0,   0,   0,   0,   0,   0,   0,\n",
       "           0,   0,   0,   0,   0,   0,   0,   0,   0,   0,   0,   0,   0,\n",
       "           0,   0,   0,   0,   0,   0,   0,   0,   0,   0,   0,   0,   0,\n",
       "           0,   0,   0,   0,   0,   0,   0]]),\n",
       " array([[35, 84, 71,  2, 91, 81, 87,  2, 85, 86, 75, 78, 78,  2, 78, 81, 81,\n",
       "         77, 75, 80, 73,  2, 72, 81, 84,  2, 67,  2, 76, 81, 68,  2, 81, 80,\n",
       "          2, 86, 74, 71,  2, 57, 71, 85, 86,  2, 37, 81, 67, 85, 86, 33,  1,\n",
       "          0,  0,  0,  0,  0,  0,  0,  0,  0,  0,  0,  0,  0,  0,  0,  0,  0,\n",
       "          0,  0,  0,  0,  0,  0,  0,  0,  0,  0,  0,  0,  0,  0,  0,  0,  0,\n",
       "          0,  0,  0,  0,  0,  0,  0,  0,  0,  0,  0,  0,  0,  0,  0,  0,  0,\n",
       "          0,  0,  0,  0,  0,  0,  0,  0,  0,  0,  0,  0,  0,  0,  0,  0,  0,\n",
       "          0,  0,  0,  0,  0,  0,  0,  0,  0,  0,  0,  0,  0,  0,  0,  0,  0,\n",
       "          0,  0,  0,  0,  0,  0,  0,  0,  0,  0,  0,  0,  0,  0],\n",
       "        [59, 81, 87,  2, 70, 75, 70,  2, 80, 81, 86,  2, 70, 81,  2, 91, 81,\n",
       "         87, 84,  2, 76, 81, 68,  2, 82, 84, 81, 82, 71, 84, 78, 91,  2, 67,\n",
       "         80, 70,  2, 79, 67, 70, 71,  2, 67,  2, 79, 71, 85, 85,  2, 81, 72,\n",
       "          2, 86, 74, 75, 80, 73, 85, 16,  1,  0,  0,  0,  0,  0,  0,  0,  0,\n",
       "          0,  0,  0,  0,  0,  0,  0,  0,  0,  0,  0,  0,  0,  0,  0,  0,  0,\n",
       "          0,  0,  0,  0,  0,  0,  0,  0,  0,  0,  0,  0,  0,  0,  0,  0,  0,\n",
       "          0,  0,  0,  0,  0,  0,  0,  0,  0,  0,  0,  0,  0,  0,  0,  0,  0,\n",
       "          0,  0,  0,  0,  0,  0,  0,  0,  0,  0,  0,  0,  0,  0,  0,  0,  0,\n",
       "          0,  0,  0,  0,  0,  0,  0,  0,  0,  0,  0,  0,  0,  0],\n",
       "        [43,  2, 89, 75, 78, 78,  2, 80, 81, 86,  2, 72, 81, 84, 73, 71, 86,\n",
       "          2, 91, 81, 87, 84,  2, 77, 75, 80, 70, 80, 71, 85, 85,  2, 67, 85,\n",
       "          2, 78, 81, 80, 73,  2, 67, 85,  2, 43,  2, 78, 75, 88, 71, 16,  1,\n",
       "          0,  0,  0,  0,  0,  0,  0,  0,  0,  0,  0,  0,  0,  0,  0,  0,  0,\n",
       "          0,  0,  0,  0,  0,  0,  0,  0,  0,  0,  0,  0,  0,  0,  0,  0,  0,\n",
       "          0,  0,  0,  0,  0,  0,  0,  0,  0,  0,  0,  0,  0,  0,  0,  0,  0,\n",
       "          0,  0,  0,  0,  0,  0,  0,  0,  0,  0,  0,  0,  0,  0,  0,  0,  0,\n",
       "          0,  0,  0,  0,  0,  0,  0,  0,  0,  0,  0,  0,  0,  0,  0,  0,  0,\n",
       "          0,  0,  0,  0,  0,  0,  0,  0,  0,  0,  0,  0,  0,  0]]),\n",
       " array([[43,  9, 79,  2, 86, 84, 91, 75, 80, 73,  2, 86, 81,  2, 77, 71, 71,\n",
       "         82,  2, 91, 81, 87, 84,  2, 67, 85, 85,  2, 81, 72, 72,  2, 70, 71,\n",
       "         67, 86, 74,  2, 84, 81, 89, 16,  1,  0,  0,  0,  0,  0,  0,  0,  0,\n",
       "          0,  0,  0,  0,  0,  0,  0,  0,  0,  0,  0,  0,  0,  0,  0,  0,  0,\n",
       "          0,  0,  0,  0,  0,  0,  0,  0,  0,  0,  0,  0,  0,  0,  0,  0,  0,\n",
       "          0,  0,  0,  0,  0,  0,  0,  0,  0,  0,  0,  0,  0,  0,  0,  0,  0,\n",
       "          0,  0,  0,  0,  0,  0,  0,  0,  0,  0,  0,  0,  0,  0,  0,  0,  0,\n",
       "          0,  0,  0,  0,  0,  0,  0,  0,  0,  0,  0,  0,  0,  0,  0,  0,  0,\n",
       "          0,  0,  0,  0,  0,  0,  0,  0,  0,  0,  0,  0,  0,  0],\n",
       "        [43,  2, 70, 81, 80,  9, 86,  2, 67, 78, 89, 67, 91, 85,  2, 86, 67,\n",
       "         78, 77,  2, 78, 75, 77, 71,  2, 86, 74, 67, 86, 16,  1,  0,  0,  0,\n",
       "          0,  0,  0,  0,  0,  0,  0,  0,  0,  0,  0,  0,  0,  0,  0,  0,  0,\n",
       "          0,  0,  0,  0,  0,  0,  0,  0,  0,  0,  0,  0,  0,  0,  0,  0,  0,\n",
       "          0,  0,  0,  0,  0,  0,  0,  0,  0,  0,  0,  0,  0,  0,  0,  0,  0,\n",
       "          0,  0,  0,  0,  0,  0,  0,  0,  0,  0,  0,  0,  0,  0,  0,  0,  0,\n",
       "          0,  0,  0,  0,  0,  0,  0,  0,  0,  0,  0,  0,  0,  0,  0,  0,  0,\n",
       "          0,  0,  0,  0,  0,  0,  0,  0,  0,  0,  0,  0,  0,  0,  0,  0,  0,\n",
       "          0,  0,  0,  0,  0,  0,  0,  0,  0,  0,  0,  0,  0,  0],\n",
       "        [42, 71,  2, 75, 85,  2, 67, 85,  2, 84, 75, 69, 74,  2, 67, 85,  2,\n",
       "         37, 84, 81, 71, 85, 87, 85, 16,  1,  0,  0,  0,  0,  0,  0,  0,  0,\n",
       "          0,  0,  0,  0,  0,  0,  0,  0,  0,  0,  0,  0,  0,  0,  0,  0,  0,\n",
       "          0,  0,  0,  0,  0,  0,  0,  0,  0,  0,  0,  0,  0,  0,  0,  0,  0,\n",
       "          0,  0,  0,  0,  0,  0,  0,  0,  0,  0,  0,  0,  0,  0,  0,  0,  0,\n",
       "          0,  0,  0,  0,  0,  0,  0,  0,  0,  0,  0,  0,  0,  0,  0,  0,  0,\n",
       "          0,  0,  0,  0,  0,  0,  0,  0,  0,  0,  0,  0,  0,  0,  0,  0,  0,\n",
       "          0,  0,  0,  0,  0,  0,  0,  0,  0,  0,  0,  0,  0,  0,  0,  0,  0,\n",
       "          0,  0,  0,  0,  0,  0,  0,  0,  0,  0,  0,  0,  0,  0]]),\n",
       " array([[127, 151, 133, ...,   0,   0,   0],\n",
       "        [129, 163, 135, ...,   0,   0,   0],\n",
       "        [126, 147, 130, ...,   0,   0,   0],\n",
       "        ..., \n",
       "        [127, 143, 127, ...,   0,   0,   0],\n",
       "        [135, 149, 129, ...,   0,   0,   0],\n",
       "        [ 35,  71,  73, ...,   0,   0,   0]]),\n",
       " array([[130, 143, 168, ...,   0,   0,   0],\n",
       "        [135, 149, 129, ...,   0,   0,   0],\n",
       "        [142, 143, 165, ...,   0,   0,   0],\n",
       "        ..., \n",
       "        [126, 143, 126, ...,   0,   0,   0],\n",
       "        [136, 163, 165, ...,   0,   0,   0],\n",
       "        [129, 151, 139, ...,   0,   0,   0]]),\n",
       " array([[126, 143, 126, ...,   0,   0,   0],\n",
       "        [124, 161, 124, ...,   0,   0,   0],\n",
       "        [127, 143, 133, ...,   0,   0,   0],\n",
       "        ..., \n",
       "        [127, 143, 185, ...,   0,   0,   0],\n",
       "        [133, 163, 172, ...,   0,   0,   0],\n",
       "        [135, 156, 129, ...,   0,   0,   0]]),\n",
       " array([[124, 151, 136, ...,   0,   0,   0],\n",
       "        [135, 161, 180, ...,   0,   0,   0],\n",
       "        [126, 143, 126, ...,   0,   0,   0],\n",
       "        ..., \n",
       "        [141, 143, 168, ...,   0,   0,   0],\n",
       "        [124, 161, 127, ...,   0,   0,   0],\n",
       "        [124, 151, 124, ...,   0,   0,   0]]),\n",
       " array([[ 43, 197,  88, ...,   0,   0,   0],\n",
       "        [ 48,  81,  80, ...,   0,   0,   0],\n",
       "        [ 57,  74,  71, ...,   0,   0,   0],\n",
       "        ..., \n",
       "        [ 57,  74,  67, ...,   0,   0,   0],\n",
       "        [ 54,  74,  67, ...,   0,   0,   0],\n",
       "        [ 49,  87,  84, ...,   0,   0,   0]]),\n",
       " [0.87018406, 0.94524735, 0.77344984],\n",
       " [0.93009478,\n",
       "  0.95920873,\n",
       "  0.82859391,\n",
       "  0.89386868,\n",
       "  0.78288794,\n",
       "  0.88105661,\n",
       "  0.86523545,\n",
       "  0.66186553,\n",
       "  0.9123823,\n",
       "  0.84475476,\n",
       "  0.8673473,\n",
       "  0.64288878,\n",
       "  0.87972617,\n",
       "  0.73145008,\n",
       "  0.75993395,\n",
       "  0.8899883,\n",
       "  0.76128149],\n",
       " [0.81101888,\n",
       "  0.76980484,\n",
       "  0.83831114,\n",
       "  0.91335827,\n",
       "  0.92358732,\n",
       "  0.85188562,\n",
       "  0.87941974,\n",
       "  0.83987546,\n",
       "  0.78651977,\n",
       "  0.8356548,\n",
       "  0.78741676,\n",
       "  0.69455183],\n",
       " [0.1, 0.1, 0.2],\n",
       " [0.07692307692307693, 0.16666666666666666, 0.25],\n",
       " [0.3333333333333333,\n",
       "  0.14285714285714285,\n",
       "  0.2,\n",
       "  0.16666666666666666,\n",
       "  0.14285714285714285,\n",
       "  0.25,\n",
       "  0.16666666666666666,\n",
       "  0.16666666666666666,\n",
       "  0.1,\n",
       "  0.25,\n",
       "  0.2,\n",
       "  0.25,\n",
       "  0.14285714285714285,\n",
       "  0.25,\n",
       "  0.2,\n",
       "  0.3333333333333333,\n",
       "  0.25])"
      ]
     },
     "execution_count": 19,
     "metadata": {},
     "output_type": "execute_result"
    }
   ],
   "source": [
    "next_batch(edges,start_index,end_index)"
   ]
  }
 ],
 "metadata": {
  "anaconda-cloud": {},
  "kernelspec": {
   "display_name": "Python [conda env:tf_r1.0_3.5]",
   "language": "python",
   "name": "conda-env-tf_r1.0_3.5-py"
  },
  "language_info": {
   "codemirror_mode": {
    "name": "ipython",
    "version": 3
   },
   "file_extension": ".py",
   "mimetype": "text/x-python",
   "name": "python",
   "nbconvert_exporter": "python",
   "pygments_lexer": "ipython3",
   "version": "3.5.2"
  }
 },
 "nbformat": 4,
 "nbformat_minor": 2
}
