{
 "cells": [
  {
   "cell_type": "code",
   "execution_count": 1,
   "metadata": {
    "collapsed": true
   },
   "outputs": [],
   "source": [
    "%load_ext autoreload\n",
    "%autoreload 2"
   ]
  },
  {
   "cell_type": "markdown",
   "metadata": {
    "deletable": true,
    "editable": true
   },
   "source": [
    "# Graph Operations"
   ]
  },
  {
   "cell_type": "code",
   "execution_count": 2,
   "metadata": {
    "collapsed": true,
    "deletable": true,
    "editable": true
   },
   "outputs": [],
   "source": [
    "from tqdm import tqdm"
   ]
  },
  {
   "cell_type": "code",
   "execution_count": 3,
   "metadata": {
    "collapsed": false,
    "deletable": true,
    "editable": true
   },
   "outputs": [],
   "source": [
    "import numpy as np\n",
    "from sklearn.preprocessing import normalize\n",
    "from time import time\n",
    "import pickle\n",
    "\n",
    "# similarity analysis using GPUs\n",
    "import faiss"
   ]
  },
  {
   "cell_type": "markdown",
   "metadata": {
    "editable": true
   },
   "source": [
    "## Create graph"
   ]
  },
  {
   "cell_type": "code",
   "execution_count": 3,
   "metadata": {
    "collapsed": false,
    "deletable": true,
    "editable": true
   },
   "outputs": [],
   "source": [
    "# load all data (vectors)\n",
    "L = pickle.load(open('./labeled.pickle', 'rb'))\n",
    "U = pickle.load(open('./unlabeled.pickle', 'rb'))\n",
    "M = np.vstack([L,U]) # combining labeled data with unlabeled data"
   ]
  },
  {
   "cell_type": "code",
   "execution_count": 4,
   "metadata": {
    "collapsed": true
   },
   "outputs": [],
   "source": [
    "mean = np.mean(M, axis=0)\n",
    "var = np.var(M, axis=0)"
   ]
  },
  {
   "cell_type": "code",
   "execution_count": 5,
   "metadata": {
    "collapsed": false,
    "deletable": true,
    "editable": true
   },
   "outputs": [],
   "source": [
    "#M = (M - mean) / np.sqrt(var)\n",
    "#M = normalize(M) # L2 Norm before calculating cosine similarity\n",
    "\n",
    "last_index_l = L.shape[0]\n",
    "last_index_u = last_index_l + U.shape[0]\n",
    "\n",
    "# we only keep the closest neighbors\n",
    "max_neighs = 3\n",
    "size = M.shape[0]"
   ]
  },
  {
   "cell_type": "code",
   "execution_count": 6,
   "metadata": {
    "collapsed": false,
    "deletable": true,
    "editable": true
   },
   "outputs": [],
   "source": [
    "\"\"\" FAISS operations \"\"\"\n",
    "res = faiss.StandardGpuResources()\n",
    "index = faiss.GpuIndexFlatIP(res, M.shape[1]) # build the index\n",
    "#index = faiss.GpuIndexFlatL2(res, M.shape[1])\n",
    "\n",
    "index.add(M) # add vectors to the index"
   ]
  },
  {
   "cell_type": "code",
   "execution_count": 7,
   "metadata": {
    "collapsed": false,
    "deletable": true,
    "editable": true
   },
   "outputs": [
    {
     "name": "stderr",
     "output_type": "stream",
     "text": [
      "100%|██████████| 276/276 [02:27<00:00,  2.17it/s]"
     ]
    },
    {
     "name": "stdout",
     "output_type": "stream",
     "text": [
      "\n"
     ]
    },
    {
     "name": "stderr",
     "output_type": "stream",
     "text": [
      "\n"
     ]
    }
   ],
   "source": [
    "batch_size = 1000\n",
    "batch_num = int(np.ceil(size / batch_size))\n",
    "\n",
    "sims, inds = [], []\n",
    "\n",
    "for i in tqdm(range(batch_num)):\n",
    "    # actual search\n",
    "    similarities, indices = index.search(M[i*batch_size:int(np.min([(i+1)*batch_size, size]))],max_neighs+1)\n",
    "    \n",
    "    # remove self-references\n",
    "    batch_ids = np.vstack(np.arange(i*batch_size, int(np.min([(i+1)*batch_size, size]))))\n",
    "    xs, ys = np.where(indices==batch_ids)\n",
    "    similarities[xs,ys] = 0\n",
    "    \n",
    "    sims.extend(similarities)\n",
    "    inds.extend(indices)\n",
    "print()"
   ]
  },
  {
   "cell_type": "markdown",
   "metadata": {
    "collapsed": true,
    "deletable": true,
    "editable": true
   },
   "source": [
    "# save to file the data structure that we worked so hard to compute\n",
    "pickle.dump([sims, inds], open(\"./ip_dist.p\", \"wb\"))"
   ]
  },
  {
   "cell_type": "markdown",
   "metadata": {},
   "source": [
    "# Test"
   ]
  },
  {
   "cell_type": "code",
   "execution_count": 4,
   "metadata": {
    "collapsed": true
   },
   "outputs": [],
   "source": [
    "sims_ip, inds_ip = pickle.load(open('./ip_dist.p', 'rb'))\n",
    "sims_ip_g, inds_ip_g = pickle.load(open('./ip_dist_gau_norm.p', 'rb'))\n",
    "sims_ip_l, inds_ip_l = pickle.load(open('./ip_dist_l2_norm.p', 'rb'))\n",
    "sims_l2, inds_l2 = pickle.load(open('./l2_dist.p', 'rb'))\n",
    "sims_l2_g, inds_l2_g = pickle.load(open('./l2_dist_gau_norm.p', 'rb'))\n",
    "sims_l2_l, inds_l2_l = pickle.load(open('./l2_dist_l2_norm.p', 'rb'))"
   ]
  },
  {
   "cell_type": "code",
   "execution_count": 5,
   "metadata": {
    "collapsed": false
   },
   "outputs": [],
   "source": [
    "with open('./train.en', 'r') as f, open('./mono.en', 'r') as g:\n",
    "    ss_L = f.readlines()\n",
    "    ss_L.extend(g.readlines())\n",
    "    ss_L = np.array(ss_L)"
   ]
  },
  {
   "cell_type": "code",
   "execution_count": 6,
   "metadata": {
    "collapsed": false
   },
   "outputs": [
    {
     "name": "stdout",
     "output_type": "stream",
     "text": [
      "But still , we look at the pieces .\n",
      "\n",
      "['I think you know what I think .\\n' 'I think you know what I think .\\n'\n",
      " 'We know we are what we eat .\\n']\n",
      "[ 'But this is how I do work . I do take pieces and bits and look at it and struggle with it and cut it away .\\n'\n",
      " 'We blow it up and look at the pieces .\\n'\n",
      " 'But there &apos;s still a sort of filling in , as we can tell if we look at this .\\n']\n",
      "['This puzzle has pieces .\\n' 'This puzzle has pieces .\\n'\n",
      " 'For 10,000 pieces .\\n']\n",
      "['We blow it up and look at the pieces .\\n'\n",
      " 'But this is how I do work . I do take pieces and bits and look at it and struggle with it and cut it away .\\n'\n",
      " 'But there &apos;s still a sort of filling in , as we can tell if we look at this .\\n']\n",
      "['We blow it up and look at the pieces .\\n'\n",
      " 'So we can now look at the SmartBird .\\n'\n",
      " 'But this is how I do work . I do take pieces and bits and look at it and struggle with it and cut it away .\\n']\n",
      "[ 'But this is how I do work . I do take pieces and bits and look at it and struggle with it and cut it away .\\n'\n",
      " 'So we can now look at the SmartBird .\\n'\n",
      " 'We blow it up and look at the pieces .\\n']\n"
     ]
    }
   ],
   "source": [
    "n = 23\n",
    "print(ss_L[n])\n",
    "print(ss_L[inds_ip[n]][np.argsort(sims_ip[n])[::-1][:3]])\n",
    "print(ss_L[inds_l2[n]][np.argsort(sims_l2[n])[::-1][:3]])\n",
    "print(ss_L[inds_ip_g[n]][np.argsort(sims_ip_g[n])[::-1][:3]])\n",
    "print(ss_L[inds_l2_g[n]][np.argsort(sims_l2_g[n])[::-1][:3]])\n",
    "print(ss_L[inds_ip_l[n]][np.argsort(sims_ip_l[n])[::-1][:3]]) # cosine similarity\n",
    "print(ss_L[inds_l2_l[n]][np.argsort(sims_l2_l[n])[::-1][:3]])"
   ]
  },
  {
   "cell_type": "code",
   "execution_count": 7,
   "metadata": {
    "collapsed": false
   },
   "outputs": [
    {
     "name": "stdout",
     "output_type": "stream",
     "text": [
      "This is the EUPHORE Smog Chamber in Spain .\n",
      "\n",
      "['Smog hung over Tokyo .\\n' 'This stinks .\\n' 'Smoking stinks .\\n']\n",
      "[ 'That &apos;s the major conclusion of the report on the economy and climate chaired by ex-President Felipe Calderón of Mexico , and I co-chaired that with him , and we handed that report yesterday here in New York , in the United Nations Building to the Secretary-General of the U.N. , Ban Ki-moon .\\n'\n",
      " 'Here &apos;s another one . This is the virus called Crash , invented in Russia in 1992 .\\n'\n",
      " 'This is it . This is the Hirshhorn -- so a 230-foot-diameter concrete doughnut designed in the early &apos; 70s by Gordon Bunshaft .\\n']\n",
      "['Smog hung over Tokyo .\\n' 'Freeways .\\n' 'Clouds .\\n']\n",
      "[ 'And today , the hurdy-gurdy is used in all sorts of music -- traditional folk music , dance , contemporary and world music -- in the U.K. , in France , in Spain and in Italy .\\n'\n",
      " 'Here &apos;s another one . This is the virus called Crash , invented in Russia in 1992 .\\n'\n",
      " 'This is it . This is the Hirshhorn -- so a 230-foot-diameter concrete doughnut designed in the early &apos; 70s by Gordon Bunshaft .\\n']\n",
      "['This is in Venice .\\n' 'The climate is mild in this country .\\n'\n",
      " 'This is in 1960 .\\n']\n",
      "['This is in 1960 .\\n' 'The climate is mild in this country .\\n'\n",
      " 'This is in Venice .\\n']\n"
     ]
    }
   ],
   "source": [
    "n = 21\n",
    "print(ss_L[n])\n",
    "print(ss_L[inds_ip[n]][np.argsort(sims_ip[n])[::-1][:3]])\n",
    "print(ss_L[inds_l2[n]][np.argsort(sims_l2[n])[::-1][:3]])\n",
    "print(ss_L[inds_ip_g[n]][np.argsort(sims_ip_g[n])[::-1][:3]])\n",
    "print(ss_L[inds_l2_g[n]][np.argsort(sims_l2_g[n])[::-1][:3]])\n",
    "print(ss_L[inds_ip_l[n]][np.argsort(sims_ip_l[n])[::-1][:3]]) # cosine similarity\n",
    "print(ss_L[inds_l2_l[n]][np.argsort(sims_l2_l[n])[::-1][:3]])"
   ]
  },
  {
   "cell_type": "code",
   "execution_count": 115,
   "metadata": {
    "collapsed": false
   },
   "outputs": [
    {
     "name": "stdout",
     "output_type": "stream",
     "text": [
      "Rachel Pike : The science behind a climate headline\n",
      "\n",
      "['That changes our climate .\\n'\n",
      " 'This science fiction novel is very interesting .\\n' 'CSI : Climate .\\n']\n",
      "[ 'Top climate scientist James Hansen tells the story of his involvement in the science of and debate over global climate change . In doing so he outlines the overwhelming evidence that change is happening and why that makes him deeply worried about the future .\\n'\n",
      " 'Typical science , actually , right ? So this makes Amy and her friends the youngest published scientists in the world .\\n'\n",
      " 'In 4 minutes , atmospheric chemist Rachel Pike provides a glimpse of the massive scientific effort behind the bold headlines on climate change , with her team -- one of thousands who contributed -- taking a risky flight over the rainforest in pursuit of data on a key molecule .\\n']\n",
      "['CSI : Climate .\\n' 'Sustainability .\\n'\n",
      " 'Creationism is a pseudo science .\\n']\n",
      "[ 'Typical science , actually , right ? So this makes Amy and her friends the youngest published scientists in the world .\\n'\n",
      " 'Top climate scientist James Hansen tells the story of his involvement in the science of and debate over global climate change . In doing so he outlines the overwhelming evidence that change is happening and why that makes him deeply worried about the future .\\n'\n",
      " 'In 4 minutes , atmospheric chemist Rachel Pike provides a glimpse of the massive scientific effort behind the bold headlines on climate change , with her team -- one of thousands who contributed -- taking a risky flight over the rainforest in pursuit of data on a key molecule .\\n']\n",
      "[ 'In 4 minutes , atmospheric chemist Rachel Pike provides a glimpse of the massive scientific effort behind the bold headlines on climate change , with her team -- one of thousands who contributed -- taking a risky flight over the rainforest in pursuit of data on a key molecule .\\n'\n",
      " 'Top climate scientist James Hansen tells the story of his involvement in the science of and debate over global climate change . In doing so he outlines the overwhelming evidence that change is happening and why that makes him deeply worried about the future .\\n'\n",
      " 'Typical science , actually , right ? So this makes Amy and her friends the youngest published scientists in the world .\\n']\n",
      "[ 'Typical science , actually , right ? So this makes Amy and her friends the youngest published scientists in the world .\\n'\n",
      " 'Top climate scientist James Hansen tells the story of his involvement in the science of and debate over global climate change . In doing so he outlines the overwhelming evidence that change is happening and why that makes him deeply worried about the future .\\n'\n",
      " 'In 4 minutes , atmospheric chemist Rachel Pike provides a glimpse of the massive scientific effort behind the bold headlines on climate change , with her team -- one of thousands who contributed -- taking a risky flight over the rainforest in pursuit of data on a key molecule .\\n']\n"
     ]
    }
   ],
   "source": [
    "n = 0\n",
    "print(ss_L[n])\n",
    "print(ss_L[inds_ip[n]][np.argsort(sims_ip[n])[::-1][:3]])\n",
    "print(ss_L[inds_l2[n]][np.argsort(sims_l2[n])[::-1][:3]])\n",
    "print(ss_L[inds_ip_g[n]][np.argsort(sims_ip_g[n])[::-1][:3]])\n",
    "print(ss_L[inds_l2_g[n]][np.argsort(sims_l2_g[n])[::-1][:3]])\n",
    "print(ss_L[inds_ip_l[n]][np.argsort(sims_ip_l[n])[::-1][:3]]) # cosine similarity\n",
    "print(ss_L[inds_l2_l[n]][np.argsort(sims_l2_l[n])[::-1][:3]])"
   ]
  },
  {
   "cell_type": "markdown",
   "metadata": {},
   "source": [
    "### Evaluation"
   ]
  },
  {
   "cell_type": "code",
   "execution_count": 8,
   "metadata": {
    "collapsed": true
   },
   "outputs": [],
   "source": [
    "from bleu import _bleu_online"
   ]
  },
  {
   "cell_type": "code",
   "execution_count": 116,
   "metadata": {
    "collapsed": false
   },
   "outputs": [
    {
     "name": "stdout",
     "output_type": "stream",
     "text": [
      "6.0096720857527\n",
      "1.8155659710249774\n",
      "4.933374063988759\n",
      "1.8155659710249774\n",
      "1.8155659710249774\n",
      "1.8155659710249774\n"
     ]
    }
   ],
   "source": [
    "n = 0\n",
    "print(_bleu_online([[ss_L[n]]*3], ss_L[inds_ip[n]][np.argsort(sims_ip[n])[::-1][:3]], 4, True))\n",
    "print(_bleu_online([[ss_L[n]]*3], ss_L[inds_l2[n]][np.argsort(sims_l2[n])[::-1][:3]], 4, True))\n",
    "print(_bleu_online([[ss_L[n]]*3], ss_L[inds_ip_g[n]][np.argsort(sims_ip_g[n])[::-1][:3]], 4, True))\n",
    "print(_bleu_online([[ss_L[n]]*3], ss_L[inds_l2_g[n]][np.argsort(sims_l2_g[n])[::-1][:3]], 4, True))\n",
    "print(_bleu_online([[ss_L[n]]*3], ss_L[inds_ip_l[n]][np.argsort(sims_ip_l[n])[::-1][:3]], 4, True))\n",
    "print(_bleu_online([[ss_L[n]]*3], ss_L[inds_l2_l[n]][np.argsort(sims_l2_l[n])[::-1][:3]], 4, True))"
   ]
  },
  {
   "cell_type": "code",
   "execution_count": 126,
   "metadata": {
    "collapsed": false
   },
   "outputs": [
    {
     "name": "stderr",
     "output_type": "stream",
     "text": [
      "100%|██████████| 275536/275536 [16:38<00:00, 276.01it/s]\n"
     ]
    }
   ],
   "source": [
    "scores = [[] for _ in range(6)]\n",
    "\n",
    "for n in tqdm(range(len(ss_L))): \n",
    "    scores[0].append(_bleu_online([[ss_L[n]]*3], ss_L[inds_ip[n]][np.argsort(sims_ip[n])[::-1][:3]], 4, True))\n",
    "    scores[1].append(_bleu_online([[ss_L[n]]*3], ss_L[inds_l2[n]][np.argsort(sims_l2[n])[::-1][:3]], 4, True))\n",
    "    scores[2].append(_bleu_online([[ss_L[n]]*3], ss_L[inds_ip_g[n]][np.argsort(sims_ip_g[n])[::-1][:3]], 4, True))\n",
    "    scores[3].append(_bleu_online([[ss_L[n]]*3], ss_L[inds_l2_g[n]][np.argsort(sims_l2_g[n])[::-1][:3]], 4, True))\n",
    "    scores[4].append(_bleu_online([[ss_L[n]]*3], ss_L[inds_ip_l[n]][np.argsort(sims_ip_l[n])[::-1][:3]], 4, True))\n",
    "    scores[5].append(_bleu_online([[ss_L[n]]*3], ss_L[inds_l2_l[n]][np.argsort(sims_l2_l[n])[::-1][:3]], 4, True))"
   ]
  },
  {
   "cell_type": "markdown",
   "metadata": {},
   "source": [
    "pickle.dump(scores, open('./scores.p', 'wb'))"
   ]
  },
  {
   "cell_type": "code",
   "execution_count": 127,
   "metadata": {
    "collapsed": false
   },
   "outputs": [
    {
     "data": {
      "text/plain": [
       "array([ 14.748217  ,  28.18297086,  20.26459016,  28.2066804 ,\n",
       "        29.51461354,  29.6011787 ])"
      ]
     },
     "execution_count": 127,
     "metadata": {},
     "output_type": "execute_result"
    }
   ],
   "source": [
    "np.mean(scores, axis=1)"
   ]
  }
 ],
 "metadata": {
  "anaconda-cloud": {},
  "kernelspec": {
   "display_name": "Python 3",
   "language": "python",
   "name": "python3"
  },
  "language_info": {
   "codemirror_mode": {
    "name": "ipython",
    "version": 3
   },
   "file_extension": ".py",
   "mimetype": "text/x-python",
   "name": "python",
   "nbconvert_exporter": "python",
   "pygments_lexer": "ipython3",
   "version": "3.6.0"
  }
 },
 "nbformat": 4,
 "nbformat_minor": 2
}
