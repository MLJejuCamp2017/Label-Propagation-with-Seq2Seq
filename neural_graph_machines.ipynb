{
 "cells": [
  {
   "cell_type": "code",
   "execution_count": 1,
   "metadata": {
    "collapsed": true,
    "deletable": true,
    "editable": true
   },
   "outputs": [],
   "source": [
    "%load_ext autoreload\n",
    "%autoreload 2"
   ]
  },
  {
   "cell_type": "code",
   "execution_count": 3,
   "metadata": {
    "collapsed": true,
    "deletable": true,
    "editable": true
   },
   "outputs": [],
   "source": [
    "from tqdm import tqdm"
   ]
  },
  {
   "cell_type": "code",
   "execution_count": 4,
   "metadata": {
    "collapsed": false,
    "deletable": true,
    "editable": true
   },
   "outputs": [
    {
     "name": "stdout",
     "output_type": "stream",
     "text": [
      "INFO:tensorflow:Train data loaded.(total data=487558, total batch=15236)\n",
      "INFO:tensorflow:Train data loaded.(total data=487527, total batch=15235)\n"
     ]
    }
   ],
   "source": [
    "import time\n",
    "import numpy as np\n",
    "import tensorflow as tf\n",
    "from batch import batch_iter\n",
    "from ngm_bytenet import g_e, g_d\n",
    "\n",
    "# set log level to debug\n",
    "tf.logging.set_verbosity(tf.logging.DEBUG)"
   ]
  },
  {
   "cell_type": "code",
   "execution_count": 5,
   "metadata": {
    "collapsed": false,
    "deletable": true,
    "editable": true
   },
   "outputs": [],
   "source": [
    "#\n",
    "# hyper parameters\n",
    "#\n",
    "batch_size = 32   # batch size\n",
    "latent_dim = 100   # hidden layer dimension\n",
    "num_block_sets = 2     # dilated blocks\n",
    "filter_size = 3\n",
    "learning_rate = 0.0003\n",
    "max_len = 150"
   ]
  },
  {
   "cell_type": "code",
   "execution_count": 6,
   "metadata": {
    "collapsed": false,
    "deletable": true,
    "editable": true
   },
   "outputs": [],
   "source": [
    "#\n",
    "# place holders\n",
    "#\n",
    "\n",
    "y0 = tf.zeros(dtype='int32', shape=[batch_size, 1])\n",
    "p_keep_conv = tf.placeholder(tf.float32)\n",
    "\n",
    "alpha1 = tf.constant(0.10, dtype=np.float32, name=\"a1\")\n",
    "alpha2 = tf.constant(0.10, dtype=np.float32, name=\"a2\")\n",
    "alpha3 = tf.constant(0.05, dtype=np.float32, name=\"a3\")\n",
    "in_u1 = tf.placeholder(tf.int32, [None, max_len], name=\"ull\")\n",
    "in_v1 = tf.placeholder(tf.int32, [None, max_len], name=\"vll\")\n",
    "in_u2 = tf.placeholder(tf.int32, [None, max_len], name=\"ulu\")\n",
    "in_v2 = tf.placeholder(tf.int32, [None, max_len], name=\"vlu\")\n",
    "in_u3 = tf.placeholder(tf.int32, [None, max_len], name=\"ulu\")\n",
    "in_v3 = tf.placeholder(tf.int32, [None, max_len], name=\"ulu\")\n",
    "labels_u1 = tf.placeholder(tf.float32, [None, max_len], name=\"lu1\")\n",
    "labels_v1 = tf.placeholder(tf.float32, [None, max_len], name=\"lv1\")\n",
    "labels_u2 = tf.placeholder(tf.float32, [None, max_len], name=\"lu2\")\n",
    "labels_v2 = tf.placeholder(tf.float32, [None, max_len], name=\"lv2\")\n",
    "labels_u3 = tf.placeholder(tf.float32, [None, max_len], name=\"lu3\")\n",
    "labels_v3 = tf.placeholder(tf.float32, [None, max_len], name=\"lv3\")\n",
    "weights_ll = tf.placeholder(tf.float32, [None, ], name=\"wll\")\n",
    "weights_lu = tf.placeholder(tf.float32, [None, ], name=\"wlu\")\n",
    "weights_uu = tf.placeholder(tf.float32, [None, ], name=\"wuu\")\n",
    "cu1 = tf.placeholder(tf.float32, [None, ], name=\"CuLL\")\n",
    "cv1 = tf.placeholder(tf.float32, [None, ], name=\"CvLL\")\n",
    "cu2 = tf.placeholder(tf.float32, [None, ], name=\"CuLU\")\n",
    "test_input = tf.placeholder(tf.int32, [None, max_len], name=\"test_input\")\n",
    "test_labels = tf.placeholder(tf.float32, [None, max_len], name=\"test_labels\")"
   ]
  },
  {
   "cell_type": "code",
   "execution_count": 7,
   "metadata": {
    "collapsed": false
   },
   "outputs": [
    {
     "ename": "NameError",
     "evalue": "name 'input_dim' is not defined",
     "output_type": "error",
     "traceback": [
      "\u001b[0;31m---------------------------------------------------------------------------\u001b[0m",
      "\u001b[0;31mNameError\u001b[0m                                 Traceback (most recent call last)",
      "\u001b[0;32m<ipython-input-7-9abdb30a63fb>\u001b[0m in \u001b[0;36m<module>\u001b[0;34m()\u001b[0m\n\u001b[1;32m      1\u001b[0m \u001b[0;32mwith\u001b[0m \u001b[0mtf\u001b[0m\u001b[0;34m.\u001b[0m\u001b[0mvariable_scope\u001b[0m\u001b[0;34m(\u001b[0m\u001b[0;34m\"ngm/enc\"\u001b[0m\u001b[0;34m)\u001b[0m \u001b[0;32mas\u001b[0m \u001b[0mscope\u001b[0m\u001b[0;34m:\u001b[0m\u001b[0;34m\u001b[0m\u001b[0m\n\u001b[0;32m----> 2\u001b[0;31m     \u001b[0memb_u1\u001b[0m \u001b[0;34m=\u001b[0m \u001b[0mg_e\u001b[0m\u001b[0;34m(\u001b[0m\u001b[0min_u1\u001b[0m\u001b[0;34m,\u001b[0m \u001b[0minput_dim\u001b[0m\u001b[0;34m,\u001b[0m \u001b[0mmax_len\u001b[0m\u001b[0;34m,\u001b[0m \u001b[0mlatent_dim\u001b[0m\u001b[0;34m,\u001b[0m  \u001b[0mnum_block_sets\u001b[0m\u001b[0;34m)\u001b[0m\u001b[0;34m\u001b[0m\u001b[0m\n\u001b[0m\u001b[1;32m      3\u001b[0m     \u001b[0mscope\u001b[0m\u001b[0;34m.\u001b[0m\u001b[0mreuse_variables\u001b[0m\u001b[0;34m(\u001b[0m\u001b[0;34m)\u001b[0m\u001b[0;34m\u001b[0m\u001b[0m\n\u001b[1;32m      4\u001b[0m     \u001b[0memb_v1\u001b[0m \u001b[0;34m=\u001b[0m \u001b[0mg_e\u001b[0m\u001b[0;34m(\u001b[0m\u001b[0min_u1\u001b[0m\u001b[0;34m,\u001b[0m \u001b[0minput_dim\u001b[0m\u001b[0;34m,\u001b[0m \u001b[0mmax_len\u001b[0m\u001b[0;34m,\u001b[0m \u001b[0mlatent_dim\u001b[0m\u001b[0;34m,\u001b[0m  \u001b[0mnum_block_sets\u001b[0m\u001b[0;34m)\u001b[0m\u001b[0;34m\u001b[0m\u001b[0m\n\u001b[1;32m      5\u001b[0m     \u001b[0memb_u2\u001b[0m \u001b[0;34m=\u001b[0m \u001b[0mg_e\u001b[0m\u001b[0;34m(\u001b[0m\u001b[0min_u1\u001b[0m\u001b[0;34m,\u001b[0m \u001b[0minput_dim\u001b[0m\u001b[0;34m,\u001b[0m \u001b[0mmax_len\u001b[0m\u001b[0;34m,\u001b[0m \u001b[0mlatent_dim\u001b[0m\u001b[0;34m,\u001b[0m  \u001b[0mnum_block_sets\u001b[0m\u001b[0;34m)\u001b[0m\u001b[0;34m\u001b[0m\u001b[0m\n",
      "\u001b[0;31mNameError\u001b[0m: name 'input_dim' is not defined"
     ]
    }
   ],
   "source": [
    "with tf.variable_scope(\"ngm/enc\") as scope:\n",
    "    emb_u1 = g_e(in_u1, input_dim, max_len, latent_dim,  num_block_sets)\n",
    "    scope.reuse_variables()\n",
    "    emb_v1 = g_e(in_u1, input_dim, max_len, latent_dim,  num_block_sets)\n",
    "    emb_u2 = g_e(in_u1, input_dim, max_len, latent_dim,  num_block_sets)\n",
    "    emb_v2 = g_e(in_u1, input_dim, max_len, latent_dim,  num_block_sets)\n",
    "    emb_u3 = g_e(in_u1, input_dim, max_len, latent_dim,  num_block_sets)\n",
    "    emb_v3 = g_e(in_u1, input_dim, max_len, latent_dim,  num_block_sets)"
   ]
  },
  {
   "cell_type": "code",
   "execution_count": 7,
   "metadata": {
    "collapsed": false,
    "deletable": true,
    "editable": true
   },
   "outputs": [
    {
     "ename": "NameError",
     "evalue": "name 'g' is not defined",
     "output_type": "error",
     "traceback": [
      "\u001b[0;31m---------------------------------------------------------------------------\u001b[0m",
      "\u001b[0;31mNameError\u001b[0m                                 Traceback (most recent call last)",
      "\u001b[0;32m<ipython-input-7-efbfe1f1cf4b>\u001b[0m in \u001b[0;36m<module>\u001b[0;34m()\u001b[0m\n\u001b[1;32m      1\u001b[0m \u001b[0;34m\u001b[0m\u001b[0m\n\u001b[1;32m      2\u001b[0m \u001b[0;32mwith\u001b[0m \u001b[0mtf\u001b[0m\u001b[0;34m.\u001b[0m\u001b[0mvariable_scope\u001b[0m\u001b[0;34m(\u001b[0m\u001b[0;34m\"ngm\"\u001b[0m\u001b[0;34m)\u001b[0m \u001b[0;32mas\u001b[0m \u001b[0mscope\u001b[0m\u001b[0;34m:\u001b[0m\u001b[0;34m\u001b[0m\u001b[0m\n\u001b[0;32m----> 3\u001b[0;31m     \u001b[0mscores_u1\u001b[0m \u001b[0;34m=\u001b[0m \u001b[0mg\u001b[0m\u001b[0;34m(\u001b[0m\u001b[0min_u1\u001b[0m\u001b[0;34m,\u001b[0m \u001b[0mlabels_u1\u001b[0m\u001b[0;34m,\u001b[0m \u001b[0my0\u001b[0m\u001b[0;34m,\u001b[0m \u001b[0mp_keep_conv\u001b[0m\u001b[0;34m,\u001b[0m \u001b[0mdata\u001b[0m\u001b[0;34m.\u001b[0m\u001b[0mvoca_size\u001b[0m\u001b[0;34m,\u001b[0m \u001b[0mdata\u001b[0m\u001b[0;34m.\u001b[0m\u001b[0mmax_len\u001b[0m\u001b[0;34m,\u001b[0m \u001b[0mlatent_dim\u001b[0m\u001b[0;34m,\u001b[0m \u001b[0mnum_block_sets\u001b[0m\u001b[0;34m)\u001b[0m\u001b[0;34m\u001b[0m\u001b[0m\n\u001b[0m\u001b[1;32m      4\u001b[0m     \u001b[0mscope\u001b[0m\u001b[0;34m.\u001b[0m\u001b[0mreuse_variables\u001b[0m\u001b[0;34m(\u001b[0m\u001b[0;34m)\u001b[0m\u001b[0;34m\u001b[0m\u001b[0m\n\u001b[1;32m      5\u001b[0m     \u001b[0mscores_v1\u001b[0m \u001b[0;34m=\u001b[0m \u001b[0mg\u001b[0m\u001b[0;34m(\u001b[0m\u001b[0min_v1\u001b[0m\u001b[0;34m,\u001b[0m \u001b[0mlabels_v1\u001b[0m\u001b[0;34m,\u001b[0m \u001b[0my0\u001b[0m\u001b[0;34m,\u001b[0m \u001b[0mp_keep_conv\u001b[0m\u001b[0;34m,\u001b[0m \u001b[0mdata\u001b[0m\u001b[0;34m.\u001b[0m\u001b[0mvoca_size\u001b[0m\u001b[0;34m,\u001b[0m \u001b[0mdata\u001b[0m\u001b[0;34m.\u001b[0m\u001b[0mmax_len\u001b[0m\u001b[0;34m,\u001b[0m \u001b[0mlatent_dim\u001b[0m\u001b[0;34m,\u001b[0m \u001b[0mnum_block_sets\u001b[0m\u001b[0;34m)\u001b[0m\u001b[0;34m\u001b[0m\u001b[0m\n",
      "\u001b[0;31mNameError\u001b[0m: name 'g' is not defined"
     ]
    }
   ],
   "source": [
    "with tf.variable_scope(\"ngm\") as scope:\n",
    "    scores_u1 = g(in_u1, labels_u1, y0, p_keep_conv, data.voca_size, data.max_len, latent_dim, num_block_sets)\n",
    "    scope.reuse_variables()\n",
    "    scores_v1 = g(in_v1, labels_v1, y0, p_keep_conv, data.voca_size, data.max_len, latent_dim, num_block_sets)\n",
    "    scores_u2 = g(in_u2, labels_u2, y0, p_keep_conv, data.voca_size, data.max_len, latent_dim, num_block_sets)\n",
    "    scores_v2 = g(in_v2, labels_v2, y0, p_keep_conv, data.voca_size, data.max_len, latent_dim, num_block_sets)\n",
    "    scores_u3 = g(in_u3, labels_u3, y0, p_keep_conv, data.voca_size, data.max_len, latent_dim, num_block_sets)\n",
    "    scores_v3 = g(in_v3, labels_v3, y0, p_keep_conv, data.voca_size, data.max_len, latent_dim, num_block_sets)\n",
    "    scores_test = g(test_input, test_labels, y0, p_keep_conv, data.voca_size, data.max_len, latent_dim, num_block_sets)"
   ]
  }
 ],
 "metadata": {
  "anaconda-cloud": {},
  "kernelspec": {
   "display_name": "Python [conda env:tf_r1.0_3.5]",
   "language": "python",
   "name": "conda-env-tf_r1.0_3.5-py"
  },
  "language_info": {
   "codemirror_mode": {
    "name": "ipython",
    "version": 3
   },
   "file_extension": ".py",
   "mimetype": "text/x-python",
   "name": "python",
   "nbconvert_exporter": "python",
   "pygments_lexer": "ipython3",
   "version": "3.5.2"
  }
 },
 "nbformat": 4,
 "nbformat_minor": 2
}
